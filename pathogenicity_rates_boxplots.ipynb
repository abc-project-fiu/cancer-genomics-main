{
 "cells": [
  {
   "cell_type": "code",
   "execution_count": null,
   "id": "a1fcfa24",
   "metadata": {},
   "outputs": [],
   "source": [
    "%matplotlib inline"
   ]
  },
  {
   "cell_type": "code",
   "execution_count": null,
   "id": "0a39f0b6",
   "metadata": {},
   "outputs": [],
   "source": [
    "\n",
    "from scipy.stats import mannwhitneyu\n",
    "from scipy.stats import ttest_ind\n",
    "import matplotlib.pyplot as plt"
   ]
  },
  {
   "cell_type": "markdown",
   "id": "d6de0301",
   "metadata": {
    "cell_marker": "######################################################################################"
   },
   "source": [
    "################# READ THIS FIRST ###################################################\n",
    "#####################################################################################\n",
    "Any statement that starts with a number sign is not read by Python, but it has information for you.\n",
    "For data, add the data that you want to compare, e.g. evolutionary rates for pathogenic versus benign sites, etc.\n",
    "First, replace the data for evolutionary rates between pathogenic versus benign sites for your protein. \n",
    "Make sure that it is formatted the same way as the example data (no leading or trailing commas)!\n",
    "Second, under Run, select Run all Cells. After several seconds, a p-value and box plot will appear at the bottom of the screen.\n",
    "The script also generates a png showing the data as boxplot. Under Files (on the left), right-click and download your box plot.\n",
    "Lastly, make note of the p-value provided after running the script in your electronic lab notebook.\n",
    "##############################################################################\n",
    "Replace the example data below with your data."
   ]
  },
  {
   "cell_type": "code",
   "execution_count": null,
   "id": "8708b5e5",
   "metadata": {},
   "outputs": [],
   "source": [
    "Rates_Pathogenic = 8,6,7,9,4,7,5,3,6,7,8,9,8,6,9,4,8,7,4,9,8,7,8,9,9,9,8,8,7,9,6,9,9,9,9,5,9,9,8,8,9,9,8,9,8,8,6,4,7,8,9,6,5,9,9,8,9,7,8,9,9,8,8,7,9,9,7,9,9,9,9,9,8,7,6,7,8,5,9,9,9,9,8,9,8,7,7,9,6,9,9,9,7,9,9,4,7,8,9,9,9,9,7,9,8,9,9,6,9,8,8,6,9,9,9,9,9,9,9,9,9,9,9,9,9,9,9,7,8,9,8,9,9,9,7,9,6,9,9,9,7,8,9,9,9,7,9,9,9,9,9,9,9,9,8,7,8,9,7,9,7,4,7,6,6,9,7,8,5,5,5,6,8,7,8,8,6,9,9,9\n",
    "Rates_Benign = 7,4,1,4,5,6,2,2,2,3,3,5,1,1,4,1,1,1,1,5,3,1,1,1,2,2,1,1,1,1,3,1,3,1,1,3,1,1,1,1,5,1,1,1,10,10,1,1,3,2,1,1,3,2,4,2,1,2,4,1,1,1,2,1,2,3,6,2,5,3,1,3,2,2,4,1,1,7,4,1,1,4,4,1,1,3,2,1,6,2,5,4,1,1,4,1,3,4,5,1,4,2,2,2,1,3,1,1,4,4,1,1,2,5,4,3,2,3,1,4,1,4,3,3,1,3,5,1,1,6,4,1,2,1,4,3,1,2,4,5,6,6,5,4,4,1,4,4,2,3,5,7,7,3,6,4,5,4,4,8,4,6"
   ]
  },
  {
   "cell_type": "markdown",
   "id": "3f5bf941",
   "metadata": {
    "cell_marker": "########################################################################################"
   },
   "source": [
    "################# HERE YOU CAN SPECIFY WHICH COLORS TO USE ############################\n",
    "#######################################################################################"
   ]
  },
  {
   "cell_type": "code",
   "execution_count": null,
   "id": "76a02def",
   "metadata": {},
   "outputs": [],
   "source": [
    "colors = ['#FF0000', '#0000FF'] # You can replace the HEX CODES as you wish. Google color and HEX CODE to find your colors."
   ]
  },
  {
   "cell_type": "markdown",
   "id": "f235074f",
   "metadata": {
    "cell_marker": "########################################################################################"
   },
   "source": [
    "########################## *** NOTHING MORE TO CHANGE *** #############################\n",
    "############################### *** RUN THE SCRIPT *** ################################\n",
    "#######################################################################################"
   ]
  },
  {
   "cell_type": "code",
   "execution_count": null,
   "id": "dab40f4d",
   "metadata": {},
   "outputs": [],
   "source": [
    "Sites1 = 'Pathogenic'\n",
    "Sites2 = 'Benign'\n",
    "data1 = eval('Rates_'+Sites1)    \n",
    "data2 = eval('Rates_'+Sites2)\n",
    "\n",
    "test_name=\"mann_wu\"                            \n",
    "\n",
    "# hypothesis test & results\n",
    "stat, p = mannwhitneyu(data1, data2)\n",
    "print('\\nHypothesis testing with Mann-Whitney for '+Sites1+' & '+Sites2+':')                         \n",
    "print('pvalue=%.3f' % (p))\n",
    "\n",
    "data=[data1, data2]\n",
    "fig1, ax1 = plt.subplots(figsize=(8, 8)) #You can change the size of the figure\n",
    "max_height =max(max(data1),max(data2)) # max height of data needed for plotting location siginifcance bars\n",
    "ax1.boxplot(data)\n",
    "\n",
    "medianprops = dict(linestyle='-', linewidth=2.0, color='grey') #You can change how your median looks\n",
    "meanpointprops = dict(marker='.', markersize=16, markeredgecolor='black', markerfacecolor='black') #You can change how the mean marker looks\n",
    "box = plt.boxplot(data, widths = 0.6, patch_artist=True, medianprops=medianprops, meanprops=meanpointprops, meanline=False, showmeans=True)\n",
    "          \n",
    "for patch, color in zip(box['boxes'], colors):\n",
    "    patch.set_facecolor(color)  \n",
    "ax1.set_title('Evolutionary rates', fontsize = 30, weight='bold')    \n",
    "plt.xticks([1, 2], [Sites1, Sites2], fontsize = 30) #Change text as needed for the data you are showing\n",
    "plt.yticks(fontsize = 24) #Change the tickmarks and axis to fix the data\n",
    "\n",
    "plt.savefig('pathogenicity_rates_boxplot.png'.format(Sites1,Sites2), dpi=600)"
   ]
  }
 ],
 "metadata": {
  "jupytext": {
   "cell_metadata_filter": "-all",
   "encoding": "# -*- coding: utf-8 -*-",
   "formats": "ipynb,py",
   "main_language": "python"
  }
 },
 "nbformat": 4,
 "nbformat_minor": 5
}
